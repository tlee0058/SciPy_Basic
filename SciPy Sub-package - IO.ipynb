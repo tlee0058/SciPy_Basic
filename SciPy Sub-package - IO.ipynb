{
 "cells": [
  {
   "cell_type": "code",
   "execution_count": null,
   "metadata": {},
   "outputs": [],
   "source": [
    "#The IO package provides a set of functions to deal with several kinds of file formats.\n",
    "# It offers a set of functions to deal with file formats that includes:\n",
    "#MatLab file, IDL files, Matrix Market files, Wav Sound files, Arff files and\n",
    "#Netcdf files. Package provides add'l files and it's corresponding methods:\n",
    "#such as:\n",
    "#NumPy.loadtxt()/NumPy.savetxt()\n",
    "#NumPy.genfromtxt()/NumPy.recfromcsv()\n",
    "#NumPy.save()/NumPy.load()"
   ]
  }
 ],
 "metadata": {
  "kernelspec": {
   "display_name": "Python 2",
   "language": "python",
   "name": "python2"
  },
  "language_info": {
   "codemirror_mode": {
    "name": "ipython",
    "version": 2
   },
   "file_extension": ".py",
   "mimetype": "text/x-python",
   "name": "python",
   "nbconvert_exporter": "python",
   "pygments_lexer": "ipython2",
   "version": "2.7.14"
  }
 },
 "nbformat": 4,
 "nbformat_minor": 2
}
